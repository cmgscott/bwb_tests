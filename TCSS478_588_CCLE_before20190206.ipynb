{
 "cells": [
  {
   "cell_type": "markdown",
   "metadata": {},
   "source": [
    "# Bioconductor and Differential Expression\n",
    "Lecture on 2/6/2019"
   ]
  },
  {
   "cell_type": "markdown",
   "metadata": {},
   "source": [
    "## 1.\tInstall bioconductor on your computer\n",
    "\n",
    "During class, some students cannot get bioconductor to install. Here are a few things you can try:\n",
    "1. Troubleshooting tips from bioconductor http://bioconductor.org/install/\n",
    "2. Download the source of the package from bioconductor and then use \"install.package\" in R\n",
    "3. If all else fails, try to see if you could roll back a version of R.  I use R 3.4.1 on my laptop running mac 10.12.6\n",
    "4. If you are a fan of Docker, try the bioconductor Docker image. https://hub.docker.com/u/bioconductor/\n",
    "5. I will present yet another cloud based option in class on Wed."
   ]
  },
  {
   "cell_type": "code",
   "execution_count": null,
   "metadata": {},
   "outputs": [],
   "source": [
    "if (!requireNamespace(\"BiocManager\"))\n",
    "    install.packages(\"BiocManager\")\n",
    "BiocManager::install()\n",
    "BiocManager::install(\"Biobase\")"
   ]
  },
  {
   "cell_type": "code",
   "execution_count": 9,
   "metadata": {},
   "outputs": [
    {
     "name": "stderr",
     "output_type": "stream",
     "text": [
      "Warning message:\n",
      "\"package 'bioconductor' is not available (for R version 3.5.1)\"Warning message:\n",
      "\"unable to access index for repository http://www.stats.ox.ac.uk/pub/RWin/bin/windows/contrib/3.5:\n",
      "  cannot open URL 'http://www.stats.ox.ac.uk/pub/RWin/bin/windows/contrib/3.5/PACKAGES'\""
     ]
    }
   ],
   "source": [
    "install.packages('bioconductor')"
   ]
  },
  {
   "cell_type": "code",
   "execution_count": 10,
   "metadata": {},
   "outputs": [
    {
     "name": "stderr",
     "output_type": "stream",
     "text": [
      "Bioconductor version 3.7 (BiocInstaller 1.30.0), ?biocLite for help\n",
      "A newer version of Bioconductor is available for this version of R,\n",
      "  ?BiocUpgrade for help\n",
      "BioC_mirror: https://bioconductor.org\n",
      "Using Bioconductor 3.7 (BiocInstaller 1.30.0), R 3.5.1 (2018-07-02).\n",
      "Installing package(s) 'Biobase'\n"
     ]
    },
    {
     "name": "stdout",
     "output_type": "stream",
     "text": [
      "package 'Biobase' successfully unpacked and MD5 sums checked\n"
     ]
    },
    {
     "name": "stderr",
     "output_type": "stream",
     "text": [
      "Warning message:\n",
      "\"cannot remove prior installation of package 'Biobase'\""
     ]
    },
    {
     "name": "stdout",
     "output_type": "stream",
     "text": [
      "\n",
      "The downloaded binary packages are in\n",
      "\tC:\\Users\\scott\\AppData\\Local\\Temp\\RtmpSWcGqm\\downloaded_packages\n"
     ]
    },
    {
     "name": "stderr",
     "output_type": "stream",
     "text": [
      "Old packages: 'backports', 'BH', 'BiocManager', 'broom', 'callr', 'caret',\n",
      "  'checkpoint', 'classInt', 'cli', 'clipr', 'codetools', 'colorspace', 'curl',\n",
      "  'data.table', 'dbplyr', 'ddalpha', 'digest', 'dimRed', 'doParallel', 'dplyr',\n",
      "  'evaluate', 'fansi', 'forcats', 'foreign', 'geometry', 'ggplot2', 'haven',\n",
      "  'htmlwidgets', 'httpuv', 'httr', 'ipred', 'IRdisplay', 'IRkernel',\n",
      "  'jsonlite', 'kernlab', 'knitr', 'labelled', 'later', 'lattice', 'lava',\n",
      "  'magic', 'markdown', 'MASS', 'Matrix', 'mgcv', 'mime', 'ModelMetrics',\n",
      "  'modelr', 'monomvn', 'openssl', 'pillar', 'pkgconfig', 'pls', 'processx',\n",
      "  'purrr', 'questionr', 'R6', 'Rcpp', 'readr', 'readxl', 'recipes', 'repr',\n",
      "  'reprex', 'rlang', 'rmarkdown', 'robustbase', 'rstudioapi', 'RUnit',\n",
      "  'scales', 'sfsmisc', 'shiny', 'spData', 'stringi', 'stringr', 'survival',\n",
      "  'testthat', 'tibble', 'tidyr', 'tidyselect', 'tinytex', 'TTR', 'xfun',\n",
      "  'xtable', 'xts', 'zoo'\n"
     ]
    }
   ],
   "source": [
    "source(\"https://bioconductor.org/biocLite.R\")\n",
    "biocLite()"
   ]
  },
  {
   "cell_type": "code",
   "execution_count": 11,
   "metadata": {},
   "outputs": [
    {
     "name": "stderr",
     "output_type": "stream",
     "text": [
      "Bioconductor version 3.7 (BiocInstaller 1.30.0), ?biocLite for help\n",
      "A newer version of Bioconductor is available for this version of R,\n",
      "  ?BiocUpgrade for help\n"
     ]
    }
   ],
   "source": [
    "## 'http' if 'https' unavailable\n",
    "    source(\"https://bioconductor.org/biocLite.R\")\n",
    "    biocLite(\"BiocUpgrade\")"
   ]
  },
  {
   "cell_type": "markdown",
   "metadata": {},
   "source": [
    "## 2.\tDownload the CCLE data from GEO\n",
    "\n",
    "Go to GEO’s web site at http://www.ncbi.nlm.nih.gov/geo/.\n",
    "1.\tSearch for CCLE.\n",
    "2.\tClick on the first link (GSE36133)\n",
    "3.\thttp://www.ncbi.nlm.nih.gov/geo/query/acc.cgi?acc=GSE36133"
   ]
  },
  {
   "cell_type": "code",
   "execution_count": 12,
   "metadata": {},
   "outputs": [
    {
     "name": "stderr",
     "output_type": "stream",
     "text": [
      "BioC_mirror: https://bioconductor.org\n",
      "Using Bioconductor 3.7 (BiocInstaller 1.30.0), R 3.5.1 (2018-07-02).\n",
      "Installing package(s) 'GEOquery'\n",
      "also installing the dependency 'Biobase'\n",
      "\n"
     ]
    },
    {
     "name": "stdout",
     "output_type": "stream",
     "text": [
      "package 'Biobase' successfully unpacked and MD5 sums checked\n"
     ]
    },
    {
     "name": "stderr",
     "output_type": "stream",
     "text": [
      "Warning message:\n",
      "\"cannot remove prior installation of package 'Biobase'\""
     ]
    },
    {
     "name": "stdout",
     "output_type": "stream",
     "text": [
      "package 'GEOquery' successfully unpacked and MD5 sums checked\n",
      "\n",
      "The downloaded binary packages are in\n",
      "\tC:\\Users\\scott\\AppData\\Local\\Temp\\RtmpSWcGqm\\downloaded_packages\n"
     ]
    },
    {
     "name": "stderr",
     "output_type": "stream",
     "text": [
      "Old packages: 'backports', 'BH', 'BiocManager', 'broom', 'callr', 'caret',\n",
      "  'checkpoint', 'classInt', 'cli', 'clipr', 'codetools', 'colorspace', 'curl',\n",
      "  'data.table', 'dbplyr', 'ddalpha', 'digest', 'dimRed', 'doParallel', 'dplyr',\n",
      "  'evaluate', 'fansi', 'forcats', 'foreign', 'geometry', 'ggplot2', 'haven',\n",
      "  'htmlwidgets', 'httpuv', 'httr', 'ipred', 'IRdisplay', 'IRkernel',\n",
      "  'jsonlite', 'kernlab', 'knitr', 'labelled', 'later', 'lattice', 'lava',\n",
      "  'magic', 'markdown', 'MASS', 'Matrix', 'mgcv', 'mime', 'ModelMetrics',\n",
      "  'modelr', 'monomvn', 'openssl', 'pillar', 'pkgconfig', 'pls', 'processx',\n",
      "  'purrr', 'questionr', 'R6', 'Rcpp', 'readr', 'readxl', 'recipes', 'repr',\n",
      "  'reprex', 'rlang', 'rmarkdown', 'robustbase', 'rstudioapi', 'RUnit',\n",
      "  'scales', 'sfsmisc', 'shiny', 'spData', 'stringi', 'stringr', 'survival',\n",
      "  'testthat', 'tibble', 'tidyr', 'tidyselect', 'tinytex', 'TTR', 'xfun',\n",
      "  'xtable', 'xts', 'zoo'\n"
     ]
    },
    {
     "ename": "ERROR",
     "evalue": "Error: package 'Biobase' required by 'GEOquery' could not be found\n",
     "output_type": "error",
     "traceback": [
      "Error: package 'Biobase' required by 'GEOquery' could not be found\nTraceback:\n",
      "1. library(GEOquery)",
      "2. .getRequiredPackages2(pkgInfo, quietly = quietly)",
      "3. stop(gettextf(\"package %s required by %s could not be found\", \n .     sQuote(pkg), sQuote(pkgname)), call. = FALSE, domain = NA)"
     ]
    }
   ],
   "source": [
    "biocLite(\"GEOquery\")\n",
    "library(GEOquery)"
   ]
  },
  {
   "cell_type": "code",
   "execution_count": 3,
   "metadata": {},
   "outputs": [
    {
     "name": "stderr",
     "output_type": "stream",
     "text": [
      "Found 1 file(s)\n",
      "GSE36133_series_matrix.txt.gz\n",
      "Parsed with column specification:\n",
      "cols(\n",
      "  .default = col_double(),\n",
      "  ID_REF = col_character()\n",
      ")\n",
      "See spec(...) for full column specifications.\n",
      "File stored at: \n",
      "C:\\Users\\scott\\AppData\\Local\\Temp\\RtmpKaUreq/GPL15308.soft\n"
     ]
    }
   ],
   "source": [
    "# this is going to take a few minutes.  \n",
    "# This command assumes that you can install the package GEOquery.\n",
    "# if this package doesn't work for you, you can load my image in your workspace.\n",
    "geoD<- getGEO('GSE36133')"
   ]
  },
  {
   "cell_type": "code",
   "execution_count": 4,
   "metadata": {},
   "outputs": [
    {
     "data": {
      "text/html": [
       "<ol class=list-inline>\n",
       "\t<li>18926</li>\n",
       "\t<li>917</li>\n",
       "</ol>\n"
      ],
      "text/latex": [
       "\\begin{enumerate*}\n",
       "\\item 18926\n",
       "\\item 917\n",
       "\\end{enumerate*}\n"
      ],
      "text/markdown": [
       "1. 18926\n",
       "2. 917\n",
       "\n",
       "\n"
      ],
      "text/plain": [
       "[1] 18926   917"
      ]
     },
     "metadata": {},
     "output_type": "display_data"
    }
   ],
   "source": [
    "# get the expression data from geoD\n",
    "mat <- exprs (geoD[[1]])\n",
    "dim (mat)"
   ]
  },
  {
   "cell_type": "code",
   "execution_count": 5,
   "metadata": {},
   "outputs": [
    {
     "data": {
      "text/html": [
       "<table>\n",
       "<thead><tr><th></th><th scope=col>GSM886835</th><th scope=col>GSM886836</th><th scope=col>GSM886837</th><th scope=col>GSM886838</th><th scope=col>GSM886839</th></tr></thead>\n",
       "<tbody>\n",
       "\t<tr><th scope=row>100009676_at</th><td>6.1161 </td><td>6.2052 </td><td>6.1249 </td><td>6.6154 </td><td> 5.4236</td></tr>\n",
       "\t<tr><th scope=row>10000_at</th><td>8.1556 </td><td>6.6152 </td><td>4.5676 </td><td>4.3519 </td><td> 6.6723</td></tr>\n",
       "\t<tr><th scope=row>10001_at</th><td>9.7864 </td><td>9.9699 </td><td>8.8720 </td><td>9.1376 </td><td>10.0290</td></tr>\n",
       "\t<tr><th scope=row>10002_at</th><td>3.7977 </td><td>4.0304 </td><td>3.8455 </td><td>3.7085 </td><td> 3.6431</td></tr>\n",
       "\t<tr><th scope=row>10003_at</th><td>3.5458 </td><td>3.8504 </td><td>4.0458 </td><td>3.9508 </td><td> 4.1589</td></tr>\n",
       "\t<tr><th scope=row>100048912_at</th><td>4.0034 </td><td>3.7959 </td><td>4.1465 </td><td>3.9271 </td><td> 3.9157</td></tr>\n",
       "</tbody>\n",
       "</table>\n"
      ],
      "text/latex": [
       "\\begin{tabular}{r|lllll}\n",
       "  & GSM886835 & GSM886836 & GSM886837 & GSM886838 & GSM886839\\\\\n",
       "\\hline\n",
       "\t100009676\\_at & 6.1161  & 6.2052  & 6.1249  & 6.6154  &  5.4236\\\\\n",
       "\t10000\\_at & 8.1556  & 6.6152  & 4.5676  & 4.3519  &  6.6723\\\\\n",
       "\t10001\\_at & 9.7864  & 9.9699  & 8.8720  & 9.1376  & 10.0290\\\\\n",
       "\t10002\\_at & 3.7977  & 4.0304  & 3.8455  & 3.7085  &  3.6431\\\\\n",
       "\t10003\\_at & 3.5458  & 3.8504  & 4.0458  & 3.9508  &  4.1589\\\\\n",
       "\t100048912\\_at & 4.0034  & 3.7959  & 4.1465  & 3.9271  &  3.9157\\\\\n",
       "\\end{tabular}\n"
      ],
      "text/markdown": [
       "\n",
       "| <!--/--> | GSM886835 | GSM886836 | GSM886837 | GSM886838 | GSM886839 | \n",
       "|---|---|---|---|---|---|\n",
       "| 100009676_at | 6.1161  | 6.2052  | 6.1249  | 6.6154  |  5.4236 | \n",
       "| 10000_at | 8.1556  | 6.6152  | 4.5676  | 4.3519  |  6.6723 | \n",
       "| 10001_at | 9.7864  | 9.9699  | 8.8720  | 9.1376  | 10.0290 | \n",
       "| 10002_at | 3.7977  | 4.0304  | 3.8455  | 3.7085  |  3.6431 | \n",
       "| 10003_at | 3.5458  | 3.8504  | 4.0458  | 3.9508  |  4.1589 | \n",
       "| 100048912_at | 4.0034  | 3.7959  | 4.1465  | 3.9271  |  3.9157 | \n",
       "\n",
       "\n"
      ],
      "text/plain": [
       "             GSM886835 GSM886836 GSM886837 GSM886838 GSM886839\n",
       "100009676_at 6.1161    6.2052    6.1249    6.6154     5.4236  \n",
       "10000_at     8.1556    6.6152    4.5676    4.3519     6.6723  \n",
       "10001_at     9.7864    9.9699    8.8720    9.1376    10.0290  \n",
       "10002_at     3.7977    4.0304    3.8455    3.7085     3.6431  \n",
       "10003_at     3.5458    3.8504    4.0458    3.9508     4.1589  \n",
       "100048912_at 4.0034    3.7959    4.1465    3.9271     3.9157  "
      ]
     },
     "metadata": {},
     "output_type": "display_data"
    }
   ],
   "source": [
    "mat[1:6, 1:5]"
   ]
  },
  {
   "cell_type": "code",
   "execution_count": 6,
   "metadata": {},
   "outputs": [
    {
     "data": {
      "text/html": [
       "<ol class=list-inline>\n",
       "\t<li>917</li>\n",
       "\t<li>42</li>\n",
       "</ol>\n"
      ],
      "text/latex": [
       "\\begin{enumerate*}\n",
       "\\item 917\n",
       "\\item 42\n",
       "\\end{enumerate*}\n"
      ],
      "text/markdown": [
       "1. 917\n",
       "2. 42\n",
       "\n",
       "\n"
      ],
      "text/plain": [
       "[1] 917  42"
      ]
     },
     "metadata": {},
     "output_type": "display_data"
    }
   ],
   "source": [
    "#get phenotype matrix from geoD\n",
    "p.mat <- pData (geoD[[1]])\n",
    "dim (p.mat)"
   ]
  },
  {
   "cell_type": "code",
   "execution_count": 7,
   "metadata": {},
   "outputs": [
    {
     "data": {
      "text/html": [
       "<table>\n",
       "<thead><tr><th></th><th scope=col>title</th><th scope=col>geo_accession</th><th scope=col>characteristics_ch1</th></tr></thead>\n",
       "<tbody>\n",
       "\t<tr><th scope=row>GSM886835</th><td>1321N1                              </td><td>GSM886835                           </td><td>primary site: central_nervous_system</td></tr>\n",
       "\t<tr><th scope=row>GSM886836</th><td>143B                                </td><td>GSM886836                           </td><td>primary site: bone                  </td></tr>\n",
       "\t<tr><th scope=row>GSM886837</th><td>22Rv1                               </td><td>GSM886837                           </td><td>primary site: prostate              </td></tr>\n",
       "\t<tr><th scope=row>GSM886838</th><td>23132/87                            </td><td>GSM886838                           </td><td>primary site: stomach               </td></tr>\n",
       "\t<tr><th scope=row>GSM886839</th><td>42-MG-BA                            </td><td>GSM886839                           </td><td>primary site: central_nervous_system</td></tr>\n",
       "\t<tr><th scope=row>GSM886840</th><td>5637                                </td><td>GSM886840                           </td><td>primary site: urinary_tract         </td></tr>\n",
       "</tbody>\n",
       "</table>\n"
      ],
      "text/latex": [
       "\\begin{tabular}{r|lll}\n",
       "  & title & geo\\_accession & characteristics\\_ch1\\\\\n",
       "\\hline\n",
       "\tGSM886835 & 1321N1                                   & GSM886835                                & primary site: central\\_nervous\\_system\\\\\n",
       "\tGSM886836 & 143B                                 & GSM886836                            & primary site: bone                  \\\\\n",
       "\tGSM886837 & 22Rv1                                & GSM886837                            & primary site: prostate              \\\\\n",
       "\tGSM886838 & 23132/87                             & GSM886838                            & primary site: stomach               \\\\\n",
       "\tGSM886839 & 42-MG-BA                                 & GSM886839                                & primary site: central\\_nervous\\_system\\\\\n",
       "\tGSM886840 & 5637                                   & GSM886840                              & primary site: urinary\\_tract         \\\\\n",
       "\\end{tabular}\n"
      ],
      "text/markdown": [
       "\n",
       "| <!--/--> | title | geo_accession | characteristics_ch1 | \n",
       "|---|---|---|---|---|---|\n",
       "| GSM886835 | 1321N1                               | GSM886835                            | primary site: central_nervous_system | \n",
       "| GSM886836 | 143B                                 | GSM886836                            | primary site: bone                   | \n",
       "| GSM886837 | 22Rv1                                | GSM886837                            | primary site: prostate               | \n",
       "| GSM886838 | 23132/87                             | GSM886838                            | primary site: stomach                | \n",
       "| GSM886839 | 42-MG-BA                             | GSM886839                            | primary site: central_nervous_system | \n",
       "| GSM886840 | 5637                                 | GSM886840                            | primary site: urinary_tract          | \n",
       "\n",
       "\n"
      ],
      "text/plain": [
       "          title    geo_accession characteristics_ch1                 \n",
       "GSM886835 1321N1   GSM886835     primary site: central_nervous_system\n",
       "GSM886836 143B     GSM886836     primary site: bone                  \n",
       "GSM886837 22Rv1    GSM886837     primary site: prostate              \n",
       "GSM886838 23132/87 GSM886838     primary site: stomach               \n",
       "GSM886839 42-MG-BA GSM886839     primary site: central_nervous_system\n",
       "GSM886840 5637     GSM886840     primary site: urinary_tract         "
      ]
     },
     "metadata": {},
     "output_type": "display_data"
    }
   ],
   "source": [
    "p.mat[1:6, c(1:2, 10)]"
   ]
  },
  {
   "cell_type": "code",
   "execution_count": 8,
   "metadata": {},
   "outputs": [
    {
     "data": {
      "text/html": [
       "'central_nervous_system'"
      ],
      "text/latex": [
       "'central\\_nervous\\_system'"
      ],
      "text/markdown": [
       "'central_nervous_system'"
      ],
      "text/plain": [
       "[1] \"central_nervous_system\""
      ]
     },
     "metadata": {},
     "output_type": "display_data"
    }
   ],
   "source": [
    "unlist(strsplit (as.character (p.mat[1,10]), \": \"))[2]"
   ]
  },
  {
   "cell_type": "code",
   "execution_count": 9,
   "metadata": {},
   "outputs": [],
   "source": [
    "source.vec <- sapply (as.character(p.mat[, 10]), function(x) {unlist(strsplit(x, \": \"))[2]})"
   ]
  },
  {
   "cell_type": "code",
   "execution_count": 10,
   "metadata": {},
   "outputs": [
    {
     "data": {
      "text/html": [
       "<dl class=dl-horizontal>\n",
       "\t<dt>primary site: central_nervous_system</dt>\n",
       "\t\t<dd>'central_nervous_system'</dd>\n",
       "\t<dt>primary site: bone</dt>\n",
       "\t\t<dd>'bone'</dd>\n",
       "\t<dt>primary site: prostate</dt>\n",
       "\t\t<dd>'prostate'</dd>\n",
       "\t<dt>primary site: stomach</dt>\n",
       "\t\t<dd>'stomach'</dd>\n",
       "\t<dt>primary site: central_nervous_system</dt>\n",
       "\t\t<dd>'central_nervous_system'</dd>\n",
       "\t<dt>primary site: urinary_tract</dt>\n",
       "\t\t<dd>'urinary_tract'</dd>\n",
       "\t<dt>primary site: urinary_tract</dt>\n",
       "\t\t<dd>'urinary_tract'</dd>\n",
       "\t<dt>primary site: urinary_tract</dt>\n",
       "\t\t<dd>'urinary_tract'</dd>\n",
       "\t<dt>primary site: haematopoietic_and_lymphoid_tissue</dt>\n",
       "\t\t<dd>'haematopoietic_and_lymphoid_tissue'</dd>\n",
       "\t<dt>primary site: kidney</dt>\n",
       "\t\t<dd>'kidney'</dd>\n",
       "</dl>\n"
      ],
      "text/latex": [
       "\\begin{description*}\n",
       "\\item[primary site: central\\textbackslash{}\\_nervous\\textbackslash{}\\_system] 'central\\_nervous\\_system'\n",
       "\\item[primary site: bone] 'bone'\n",
       "\\item[primary site: prostate] 'prostate'\n",
       "\\item[primary site: stomach] 'stomach'\n",
       "\\item[primary site: central\\textbackslash{}\\_nervous\\textbackslash{}\\_system] 'central\\_nervous\\_system'\n",
       "\\item[primary site: urinary\\textbackslash{}\\_tract] 'urinary\\_tract'\n",
       "\\item[primary site: urinary\\textbackslash{}\\_tract] 'urinary\\_tract'\n",
       "\\item[primary site: urinary\\textbackslash{}\\_tract] 'urinary\\_tract'\n",
       "\\item[primary site: haematopoietic\\textbackslash{}\\_and\\textbackslash{}\\_lymphoid\\textbackslash{}\\_tissue] 'haematopoietic\\_and\\_lymphoid\\_tissue'\n",
       "\\item[primary site: kidney] 'kidney'\n",
       "\\end{description*}\n"
      ],
      "text/markdown": [
       "primary site: central_nervous_system\n",
       ":   'central_nervous_system'primary site: bone\n",
       ":   'bone'primary site: prostate\n",
       ":   'prostate'primary site: stomach\n",
       ":   'stomach'primary site: central_nervous_system\n",
       ":   'central_nervous_system'primary site: urinary_tract\n",
       ":   'urinary_tract'primary site: urinary_tract\n",
       ":   'urinary_tract'primary site: urinary_tract\n",
       ":   'urinary_tract'primary site: haematopoietic_and_lymphoid_tissue\n",
       ":   'haematopoietic_and_lymphoid_tissue'primary site: kidney\n",
       ":   'kidney'\n",
       "\n"
      ],
      "text/plain": [
       "            primary site: central_nervous_system \n",
       "                        \"central_nervous_system\" \n",
       "                              primary site: bone \n",
       "                                          \"bone\" \n",
       "                          primary site: prostate \n",
       "                                      \"prostate\" \n",
       "                           primary site: stomach \n",
       "                                       \"stomach\" \n",
       "            primary site: central_nervous_system \n",
       "                        \"central_nervous_system\" \n",
       "                     primary site: urinary_tract \n",
       "                                 \"urinary_tract\" \n",
       "                     primary site: urinary_tract \n",
       "                                 \"urinary_tract\" \n",
       "                     primary site: urinary_tract \n",
       "                                 \"urinary_tract\" \n",
       "primary site: haematopoietic_and_lymphoid_tissue \n",
       "            \"haematopoietic_and_lymphoid_tissue\" \n",
       "                            primary site: kidney \n",
       "                                        \"kidney\" "
      ]
     },
     "metadata": {},
     "output_type": "display_data"
    }
   ],
   "source": [
    "source.vec[1:10]"
   ]
  },
  {
   "cell_type": "code",
   "execution_count": 11,
   "metadata": {},
   "outputs": [
    {
     "data": {
      "text/html": [
       "917"
      ],
      "text/latex": [
       "917"
      ],
      "text/markdown": [
       "917"
      ],
      "text/plain": [
       "[1] 917"
      ]
     },
     "metadata": {},
     "output_type": "display_data"
    }
   ],
   "source": [
    "length (source.vec)"
   ]
  },
  {
   "cell_type": "code",
   "execution_count": 12,
   "metadata": {},
   "outputs": [
    {
     "data": {
      "text/html": [
       "<ol class=list-inline>\n",
       "\t<li>'central_nervous_system'</li>\n",
       "\t<li>'bone'</li>\n",
       "\t<li>'prostate'</li>\n",
       "\t<li>'stomach'</li>\n",
       "\t<li>'urinary_tract'</li>\n",
       "\t<li>'haematopoietic_and_lymphoid_tissue'</li>\n",
       "\t<li>'kidney'</li>\n",
       "\t<li>'thyroid'</li>\n",
       "\t<li>'skin'</li>\n",
       "\t<li>'soft_tissue'</li>\n",
       "\t<li>'salivary_gland'</li>\n",
       "\t<li>'ovary'</li>\n",
       "\t<li>'lung'</li>\n",
       "\t<li>'pleura'</li>\n",
       "\t<li>'liver'</li>\n",
       "\t<li>'endometrium'</li>\n",
       "\t<li>'pancreas'</li>\n",
       "\t<li>'breast'</li>\n",
       "\t<li>'upper_aerodigestive_tract'</li>\n",
       "\t<li>'large_intestine'</li>\n",
       "\t<li>'autonomic_ganglia'</li>\n",
       "\t<li>'oesophagus'</li>\n",
       "\t<li>'biliary_tract'</li>\n",
       "\t<li>'small_intestine'</li>\n",
       "</ol>\n"
      ],
      "text/latex": [
       "\\begin{enumerate*}\n",
       "\\item 'central\\_nervous\\_system'\n",
       "\\item 'bone'\n",
       "\\item 'prostate'\n",
       "\\item 'stomach'\n",
       "\\item 'urinary\\_tract'\n",
       "\\item 'haematopoietic\\_and\\_lymphoid\\_tissue'\n",
       "\\item 'kidney'\n",
       "\\item 'thyroid'\n",
       "\\item 'skin'\n",
       "\\item 'soft\\_tissue'\n",
       "\\item 'salivary\\_gland'\n",
       "\\item 'ovary'\n",
       "\\item 'lung'\n",
       "\\item 'pleura'\n",
       "\\item 'liver'\n",
       "\\item 'endometrium'\n",
       "\\item 'pancreas'\n",
       "\\item 'breast'\n",
       "\\item 'upper\\_aerodigestive\\_tract'\n",
       "\\item 'large\\_intestine'\n",
       "\\item 'autonomic\\_ganglia'\n",
       "\\item 'oesophagus'\n",
       "\\item 'biliary\\_tract'\n",
       "\\item 'small\\_intestine'\n",
       "\\end{enumerate*}\n"
      ],
      "text/markdown": [
       "1. 'central_nervous_system'\n",
       "2. 'bone'\n",
       "3. 'prostate'\n",
       "4. 'stomach'\n",
       "5. 'urinary_tract'\n",
       "6. 'haematopoietic_and_lymphoid_tissue'\n",
       "7. 'kidney'\n",
       "8. 'thyroid'\n",
       "9. 'skin'\n",
       "10. 'soft_tissue'\n",
       "11. 'salivary_gland'\n",
       "12. 'ovary'\n",
       "13. 'lung'\n",
       "14. 'pleura'\n",
       "15. 'liver'\n",
       "16. 'endometrium'\n",
       "17. 'pancreas'\n",
       "18. 'breast'\n",
       "19. 'upper_aerodigestive_tract'\n",
       "20. 'large_intestine'\n",
       "21. 'autonomic_ganglia'\n",
       "22. 'oesophagus'\n",
       "23. 'biliary_tract'\n",
       "24. 'small_intestine'\n",
       "\n",
       "\n"
      ],
      "text/plain": [
       " [1] \"central_nervous_system\"             \"bone\"                              \n",
       " [3] \"prostate\"                           \"stomach\"                           \n",
       " [5] \"urinary_tract\"                      \"haematopoietic_and_lymphoid_tissue\"\n",
       " [7] \"kidney\"                             \"thyroid\"                           \n",
       " [9] \"skin\"                               \"soft_tissue\"                       \n",
       "[11] \"salivary_gland\"                     \"ovary\"                             \n",
       "[13] \"lung\"                               \"pleura\"                            \n",
       "[15] \"liver\"                              \"endometrium\"                       \n",
       "[17] \"pancreas\"                           \"breast\"                            \n",
       "[19] \"upper_aerodigestive_tract\"          \"large_intestine\"                   \n",
       "[21] \"autonomic_ganglia\"                  \"oesophagus\"                        \n",
       "[23] \"biliary_tract\"                      \"small_intestine\"                   "
      ]
     },
     "metadata": {},
     "output_type": "display_data"
    },
    {
     "data": {
      "text/html": [
       "24"
      ],
      "text/latex": [
       "24"
      ],
      "text/markdown": [
       "24"
      ],
      "text/plain": [
       "[1] 24"
      ]
     },
     "metadata": {},
     "output_type": "display_data"
    }
   ],
   "source": [
    "unique (as.character(source.vec))\n",
    "length(unique (as.character(source.vec)))"
   ]
  },
  {
   "cell_type": "code",
   "execution_count": 13,
   "metadata": {},
   "outputs": [
    {
     "data": {
      "text/html": [
       "166"
      ],
      "text/latex": [
       "166"
      ],
      "text/markdown": [
       "166"
      ],
      "text/plain": [
       "[1] 166"
      ]
     },
     "metadata": {},
     "output_type": "display_data"
    }
   ],
   "source": [
    "# If your laptop uses non-English encoding, the quotes will not work for you.\n",
    "sum (as.character(source.vec)==\"lung\")"
   ]
  },
  {
   "cell_type": "markdown",
   "metadata": {},
   "source": [
    "## compute the count for each unique cell line"
   ]
  },
  {
   "cell_type": "code",
   "execution_count": 14,
   "metadata": {},
   "outputs": [
    {
     "data": {
      "text/html": [
       "<dl class=dl-horizontal>\n",
       "\t<dt>central_nervous_system</dt>\n",
       "\t\t<dd>47</dd>\n",
       "\t<dt>bone</dt>\n",
       "\t\t<dd>25</dd>\n",
       "\t<dt>prostate</dt>\n",
       "\t\t<dd>7</dd>\n",
       "\t<dt>stomach</dt>\n",
       "\t\t<dd>34</dd>\n",
       "\t<dt>urinary_tract</dt>\n",
       "\t\t<dd>22</dd>\n",
       "\t<dt>haematopoietic_and_lymphoid_tissue</dt>\n",
       "\t\t<dd>172</dd>\n",
       "\t<dt>kidney</dt>\n",
       "\t\t<dd>20</dd>\n",
       "\t<dt>thyroid</dt>\n",
       "\t\t<dd>11</dd>\n",
       "\t<dt>skin</dt>\n",
       "\t\t<dd>58</dd>\n",
       "\t<dt>soft_tissue</dt>\n",
       "\t\t<dd>16</dd>\n",
       "\t<dt>salivary_gland</dt>\n",
       "\t\t<dd>2</dd>\n",
       "\t<dt>ovary</dt>\n",
       "\t\t<dd>44</dd>\n",
       "\t<dt>lung</dt>\n",
       "\t\t<dd>166</dd>\n",
       "\t<dt>pleura</dt>\n",
       "\t\t<dd>9</dd>\n",
       "\t<dt>liver</dt>\n",
       "\t\t<dd>26</dd>\n",
       "\t<dt>endometrium</dt>\n",
       "\t\t<dd>25</dd>\n",
       "\t<dt>pancreas</dt>\n",
       "\t\t<dd>43</dd>\n",
       "\t<dt>breast</dt>\n",
       "\t\t<dd>56</dd>\n",
       "\t<dt>upper_aerodigestive_tract</dt>\n",
       "\t\t<dd>29</dd>\n",
       "\t<dt>large_intestine</dt>\n",
       "\t\t<dd>55</dd>\n",
       "\t<dt>autonomic_ganglia</dt>\n",
       "\t\t<dd>17</dd>\n",
       "\t<dt>oesophagus</dt>\n",
       "\t\t<dd>25</dd>\n",
       "\t<dt>biliary_tract</dt>\n",
       "\t\t<dd>7</dd>\n",
       "\t<dt>small_intestine</dt>\n",
       "\t\t<dd>1</dd>\n",
       "</dl>\n"
      ],
      "text/latex": [
       "\\begin{description*}\n",
       "\\item[central\\textbackslash{}\\_nervous\\textbackslash{}\\_system] 47\n",
       "\\item[bone] 25\n",
       "\\item[prostate] 7\n",
       "\\item[stomach] 34\n",
       "\\item[urinary\\textbackslash{}\\_tract] 22\n",
       "\\item[haematopoietic\\textbackslash{}\\_and\\textbackslash{}\\_lymphoid\\textbackslash{}\\_tissue] 172\n",
       "\\item[kidney] 20\n",
       "\\item[thyroid] 11\n",
       "\\item[skin] 58\n",
       "\\item[soft\\textbackslash{}\\_tissue] 16\n",
       "\\item[salivary\\textbackslash{}\\_gland] 2\n",
       "\\item[ovary] 44\n",
       "\\item[lung] 166\n",
       "\\item[pleura] 9\n",
       "\\item[liver] 26\n",
       "\\item[endometrium] 25\n",
       "\\item[pancreas] 43\n",
       "\\item[breast] 56\n",
       "\\item[upper\\textbackslash{}\\_aerodigestive\\textbackslash{}\\_tract] 29\n",
       "\\item[large\\textbackslash{}\\_intestine] 55\n",
       "\\item[autonomic\\textbackslash{}\\_ganglia] 17\n",
       "\\item[oesophagus] 25\n",
       "\\item[biliary\\textbackslash{}\\_tract] 7\n",
       "\\item[small\\textbackslash{}\\_intestine] 1\n",
       "\\end{description*}\n"
      ],
      "text/markdown": [
       "central_nervous_system\n",
       ":   47bone\n",
       ":   25prostate\n",
       ":   7stomach\n",
       ":   34urinary_tract\n",
       ":   22haematopoietic_and_lymphoid_tissue\n",
       ":   172kidney\n",
       ":   20thyroid\n",
       ":   11skin\n",
       ":   58soft_tissue\n",
       ":   16salivary_gland\n",
       ":   2ovary\n",
       ":   44lung\n",
       ":   166pleura\n",
       ":   9liver\n",
       ":   26endometrium\n",
       ":   25pancreas\n",
       ":   43breast\n",
       ":   56upper_aerodigestive_tract\n",
       ":   29large_intestine\n",
       ":   55autonomic_ganglia\n",
       ":   17oesophagus\n",
       ":   25biliary_tract\n",
       ":   7small_intestine\n",
       ":   1\n",
       "\n"
      ],
      "text/plain": [
       "            central_nervous_system                               bone \n",
       "                                47                                 25 \n",
       "                          prostate                            stomach \n",
       "                                 7                                 34 \n",
       "                     urinary_tract haematopoietic_and_lymphoid_tissue \n",
       "                                22                                172 \n",
       "                            kidney                            thyroid \n",
       "                                20                                 11 \n",
       "                              skin                        soft_tissue \n",
       "                                58                                 16 \n",
       "                    salivary_gland                              ovary \n",
       "                                 2                                 44 \n",
       "                              lung                             pleura \n",
       "                               166                                  9 \n",
       "                             liver                        endometrium \n",
       "                                26                                 25 \n",
       "                          pancreas                             breast \n",
       "                                43                                 56 \n",
       "         upper_aerodigestive_tract                    large_intestine \n",
       "                                29                                 55 \n",
       "                 autonomic_ganglia                         oesophagus \n",
       "                                17                                 25 \n",
       "                     biliary_tract                    small_intestine \n",
       "                                 7                                  1 "
      ]
     },
     "metadata": {},
     "output_type": "display_data"
    }
   ],
   "source": [
    "unique.source.vec <- unique (as.character(source.vec))\n",
    "count.per.source <- sapply (unique.source.vec, function (x){sum(as.character(source.vec)==x)})\n",
    "count.per.source"
   ]
  },
  {
   "cell_type": "code",
   "execution_count": 15,
   "metadata": {},
   "outputs": [
    {
     "data": {
      "text/html": [
       "25"
      ],
      "text/latex": [
       "25"
      ],
      "text/markdown": [
       "25"
      ],
      "text/plain": [
       "[1] 25"
      ]
     },
     "metadata": {},
     "output_type": "display_data"
    },
    {
     "data": {
      "text/html": [
       "25"
      ],
      "text/latex": [
       "25"
      ],
      "text/markdown": [
       "25"
      ],
      "text/plain": [
       "[1] 25"
      ]
     },
     "metadata": {},
     "output_type": "display_data"
    }
   ],
   "source": [
    "bone.ind <- which (as.character(source.vec) == \"bone\")\n",
    "oesophagus.ind <- which (as.character(source.vec) == \"oesophagus\")\n",
    "length (bone.ind)\n",
    "length (oesophagus.ind)"
   ]
  },
  {
   "cell_type": "code",
   "execution_count": 16,
   "metadata": {},
   "outputs": [
    {
     "data": {
      "text/html": [
       "<ol class=list-inline>\n",
       "\t<li>18926</li>\n",
       "\t<li>50</li>\n",
       "</ol>\n"
      ],
      "text/latex": [
       "\\begin{enumerate*}\n",
       "\\item 18926\n",
       "\\item 50\n",
       "\\end{enumerate*}\n"
      ],
      "text/markdown": [
       "1. 18926\n",
       "2. 50\n",
       "\n",
       "\n"
      ],
      "text/plain": [
       "[1] 18926    50"
      ]
     },
     "metadata": {},
     "output_type": "display_data"
    }
   ],
   "source": [
    "mat.sub <- mat[, c(bone.ind, oesophagus.ind)]\n",
    "dim (mat.sub)"
   ]
  },
  {
   "cell_type": "code",
   "execution_count": 17,
   "metadata": {
    "collapsed": true
   },
   "outputs": [],
   "source": [
    "write.table (mat.sub, file=\"sub_mat.txt\", sep=\"\\t\", row.names=T, col.names=T)"
   ]
  },
  {
   "cell_type": "markdown",
   "metadata": {},
   "source": [
    "## Differential expression using the t-test\n",
    "\n",
    "For each gene A, is the mean of this gene under the bone samples different from the mean of this gene under the oesophagus samples?"
   ]
  },
  {
   "cell_type": "code",
   "execution_count": 18,
   "metadata": {},
   "outputs": [
    {
     "data": {
      "text/html": [
       "<table>\n",
       "<thead><tr><th></th><th scope=col>GSM886836</th><th scope=col>GSM886859</th><th scope=col>GSM886901</th><th scope=col>GSM886912</th><th scope=col>GSM887015</th><th scope=col>GSM887088</th></tr></thead>\n",
       "<tbody>\n",
       "\t<tr><th scope=row>100009676_at</th><td>6.2052 </td><td>5.4153 </td><td>5.5729 </td><td>5.8700 </td><td>5.8151 </td><td> 5.2842</td></tr>\n",
       "\t<tr><th scope=row>10000_at</th><td>6.6152 </td><td>4.6571 </td><td>4.9790 </td><td>7.8872 </td><td>5.9303 </td><td> 6.9926</td></tr>\n",
       "\t<tr><th scope=row>10001_at</th><td>9.9699 </td><td>9.4435 </td><td>9.0982 </td><td>8.3093 </td><td>8.1213 </td><td>10.1340</td></tr>\n",
       "\t<tr><th scope=row>10002_at</th><td>4.0304 </td><td>4.0395 </td><td>3.8002 </td><td>3.5999 </td><td>4.0901 </td><td> 3.8586</td></tr>\n",
       "\t<tr><th scope=row>10003_at</th><td>3.8504 </td><td>4.9709 </td><td>7.0736 </td><td>4.5478 </td><td>4.4081 </td><td> 3.7288</td></tr>\n",
       "</tbody>\n",
       "</table>\n"
      ],
      "text/latex": [
       "\\begin{tabular}{r|llllll}\n",
       "  & GSM886836 & GSM886859 & GSM886901 & GSM886912 & GSM887015 & GSM887088\\\\\n",
       "\\hline\n",
       "\t100009676\\_at & 6.2052  & 5.4153  & 5.5729  & 5.8700  & 5.8151  &  5.2842\\\\\n",
       "\t10000\\_at & 6.6152  & 4.6571  & 4.9790  & 7.8872  & 5.9303  &  6.9926\\\\\n",
       "\t10001\\_at & 9.9699  & 9.4435  & 9.0982  & 8.3093  & 8.1213  & 10.1340\\\\\n",
       "\t10002\\_at & 4.0304  & 4.0395  & 3.8002  & 3.5999  & 4.0901  &  3.8586\\\\\n",
       "\t10003\\_at & 3.8504  & 4.9709  & 7.0736  & 4.5478  & 4.4081  &  3.7288\\\\\n",
       "\\end{tabular}\n"
      ],
      "text/markdown": [
       "\n",
       "| <!--/--> | GSM886836 | GSM886859 | GSM886901 | GSM886912 | GSM887015 | GSM887088 | \n",
       "|---|---|---|---|---|\n",
       "| 100009676_at | 6.2052  | 5.4153  | 5.5729  | 5.8700  | 5.8151  |  5.2842 | \n",
       "| 10000_at | 6.6152  | 4.6571  | 4.9790  | 7.8872  | 5.9303  |  6.9926 | \n",
       "| 10001_at | 9.9699  | 9.4435  | 9.0982  | 8.3093  | 8.1213  | 10.1340 | \n",
       "| 10002_at | 4.0304  | 4.0395  | 3.8002  | 3.5999  | 4.0901  |  3.8586 | \n",
       "| 10003_at | 3.8504  | 4.9709  | 7.0736  | 4.5478  | 4.4081  |  3.7288 | \n",
       "\n",
       "\n"
      ],
      "text/plain": [
       "             GSM886836 GSM886859 GSM886901 GSM886912 GSM887015 GSM887088\n",
       "100009676_at 6.2052    5.4153    5.5729    5.8700    5.8151     5.2842  \n",
       "10000_at     6.6152    4.6571    4.9790    7.8872    5.9303     6.9926  \n",
       "10001_at     9.9699    9.4435    9.0982    8.3093    8.1213    10.1340  \n",
       "10002_at     4.0304    4.0395    3.8002    3.5999    4.0901     3.8586  \n",
       "10003_at     3.8504    4.9709    7.0736    4.5478    4.4081     3.7288  "
      ]
     },
     "metadata": {},
     "output_type": "display_data"
    }
   ],
   "source": [
    "mat.sub[1:5, 1:6]"
   ]
  },
  {
   "cell_type": "markdown",
   "metadata": {},
   "source": [
    "### for the first gene, we want to ask of the mean of the first gene is different under bones (first 25 samples 1:25) than under oesophagus (the second 25 samples 26:50)"
   ]
  },
  {
   "cell_type": "code",
   "execution_count": null,
   "metadata": {
    "collapsed": true
   },
   "outputs": [],
   "source": []
  },
  {
   "cell_type": "code",
   "execution_count": null,
   "metadata": {
    "collapsed": true
   },
   "outputs": [],
   "source": []
  },
  {
   "cell_type": "code",
   "execution_count": null,
   "metadata": {
    "collapsed": true
   },
   "outputs": [],
   "source": []
  },
  {
   "cell_type": "markdown",
   "metadata": {},
   "source": [
    "## Your task: compute the t-statistic and corresponding p-values for each gene."
   ]
  },
  {
   "cell_type": "code",
   "execution_count": null,
   "metadata": {
    "collapsed": true
   },
   "outputs": [],
   "source": []
  },
  {
   "cell_type": "code",
   "execution_count": null,
   "metadata": {
    "collapsed": true
   },
   "outputs": [],
   "source": []
  },
  {
   "cell_type": "code",
   "execution_count": null,
   "metadata": {
    "collapsed": true
   },
   "outputs": [],
   "source": []
  }
 ],
 "metadata": {
  "kernelspec": {
   "display_name": "R",
   "language": "R",
   "name": "ir"
  },
  "language_info": {
   "codemirror_mode": "r",
   "file_extension": ".r",
   "mimetype": "text/x-r-source",
   "name": "R",
   "pygments_lexer": "r",
   "version": "3.5.1"
  }
 },
 "nbformat": 4,
 "nbformat_minor": 2
}
